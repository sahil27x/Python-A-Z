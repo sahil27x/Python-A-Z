{
 "cells": [
  {
   "cell_type": "code",
   "execution_count": 1,
   "metadata": {
    "collapsed": true
   },
   "outputs": [],
   "source": [
    "#INTRODUCTION-GENERAL PURPOSE, HIGH LEVEL PROGRAMMING LANGUAGE"
   ]
  },
  {
   "cell_type": "code",
   "execution_count": 2,
   "metadata": {},
   "outputs": [
    {
     "name": "stdout",
     "output_type": "stream",
     "text": [
      "Hello world!\n"
     ]
    }
   ],
   "source": [
    "#FIRST PROGRAM IS ALWAYS ABOUT HELLLO WORLD!\n",
    "\n",
    "#Script Starts\n",
    "\n",
    "print(\"Hello world!\")\n",
    "\n",
    "#Script Ends"
   ]
  },
  {
   "cell_type": "code",
   "execution_count": 3,
   "metadata": {},
   "outputs": [
    {
     "name": "stdout",
     "output_type": "stream",
     "text": [
      "3\n"
     ]
    }
   ],
   "source": [
    "#No need to declare datatype of the variable\n",
    "number = 3\n",
    "print(number)"
   ]
  },
  {
   "cell_type": "code",
   "execution_count": 4,
   "metadata": {},
   "outputs": [
    {
     "name": "stdout",
     "output_type": "stream",
     "text": [
      "4.5\n"
     ]
    }
   ],
   "source": [
    "number = 4.5\n",
    "print(number)"
   ]
  },
  {
   "cell_type": "code",
   "execution_count": 5,
   "metadata": {},
   "outputs": [
    {
     "name": "stdout",
     "output_type": "stream",
     "text": [
      "[20, 4.5, 'Hello']\n"
     ]
    }
   ],
   "source": [
    "#List-THE MOST BASIC DATA STRUCTURE IN PYTHON.\n",
    "#1. MUTABALE DATA STRUCTURE\n",
    "\n",
    "#list\n",
    "nums = []\n",
    "\n",
    "#appending data\n",
    "nums.append(20)\n",
    "nums.append(4.5)\n",
    "nums.append(\"Hello\")\n",
    "\n",
    "print(nums)"
   ]
  },
  {
   "cell_type": "code",
   "execution_count": 6,
   "metadata": {
    "collapsed": true
   },
   "outputs": [],
   "source": [
    "# - USED FOR COMMENTS IN PYTHON"
   ]
  },
  {
   "cell_type": "code",
   "execution_count": 7,
   "metadata": {},
   "outputs": [
    {
     "name": "stdout",
     "output_type": "stream",
     "text": [
      "Enter your name: Stark\n",
      "Hello! Stark\n"
     ]
    }
   ],
   "source": [
    "#INPUT AND OUTPUT IN PYTHON\n",
    "\n",
    "#getting input\n",
    "name=input(\"Enter your name: \")\n",
    "print(\"Hello!\",name)"
   ]
  },
  {
   "cell_type": "code",
   "execution_count": 8,
   "metadata": {},
   "outputs": [
    {
     "name": "stdout",
     "output_type": "stream",
     "text": [
      "Enter number 1: 5\n",
      "Enter number 2: 10\n",
      "50\n"
     ]
    }
   ],
   "source": [
    "#integer input\n",
    "num1 = int(input(\"Enter number 1: \"))\n",
    "num2 = int(input(\"Enter number 2: \"))\n",
    "\n",
    "num3 = num1*num2\n",
    "print(num3)"
   ]
  },
  {
   "cell_type": "code",
   "execution_count": 9,
   "metadata": {},
   "outputs": [
    {
     "name": "stdout",
     "output_type": "stream",
     "text": [
      "Good\n"
     ]
    }
   ],
   "source": [
    "#FLOW CONTROL/SELECTION IN PYTHON\n",
    "\n",
    "#IF-ELIF-ELSE\n",
    "\n",
    "num1 = 27\n",
    "if num1<30:\n",
    "    print(\"Good\")\n",
    "elif num1>30:\n",
    "    print(\"Not Good\")\n",
    "else:\n",
    "    print(\"Bad\")"
   ]
  },
  {
   "cell_type": "code",
   "execution_count": 10,
   "metadata": {},
   "outputs": [
    {
     "name": "stdout",
     "output_type": "stream",
     "text": [
      "hello again!!\n"
     ]
    }
   ],
   "source": [
    "#FUNCTIONS\n",
    "\n",
    "def hello():\n",
    "    print(\"hello again!!\")\n",
    "\n",
    "#calling\n",
    "hello()"
   ]
  },
  {
   "cell_type": "code",
   "execution_count": 11,
   "metadata": {},
   "outputs": [
    {
     "name": "stdout",
     "output_type": "stream",
     "text": [
      "Hello!\n"
     ]
    }
   ],
   "source": [
    "#MAIN FUNCTION IN PYTHON\n",
    "\n",
    "def hello():\n",
    "    return \"Hello!\"\n",
    "\n",
    "def Main():\n",
    "    print(hello())\n",
    "    \n",
    "if __name__==\"__main__\":\n",
    "    Main()"
   ]
  },
  {
   "cell_type": "code",
   "execution_count": 13,
   "metadata": {},
   "outputs": [
    {
     "name": "stdout",
     "output_type": "stream",
     "text": [
      "0\n",
      "1\n",
      "2\n",
      "3\n",
      "4\n"
     ]
    }
   ],
   "source": [
    "#ITERATION\n",
    "\n",
    "for step in range(5):\n",
    "    print(step)"
   ]
  },
  {
   "cell_type": "code",
   "execution_count": 15,
   "metadata": {},
   "outputs": [
    {
     "name": "stdout",
     "output_type": "stream",
     "text": [
      "85.0\n"
     ]
    }
   ],
   "source": [
    "#IMPORTING MODULES\n",
    "\n",
    "import math\n",
    "\n",
    "def fab():\n",
    "    num = 85\n",
    "    num = math.fabs(num) #fabs - to get absolute value of decimal\n",
    "    print(num)\n",
    "if __name__ == \"__main__\":\n",
    "    fab()"
   ]
  },
  {
   "cell_type": "code",
   "execution_count": 20,
   "metadata": {},
   "outputs": [
    {
     "name": "stdout",
     "output_type": "stream",
     "text": [
      "True\n",
      "False\n",
      "True\n",
      "False\n",
      "False\n",
      "False\n"
     ]
    }
   ],
   "source": [
    "#keywords in python\n",
    "\n",
    "print(False==0)\n",
    "print(True==0)\n",
    "print(True or False)\n",
    "print(True and False)\n",
    "print(not True)\n",
    "print(None == 0)"
   ]
  },
  {
   "cell_type": "code",
   "execution_count": 21,
   "metadata": {},
   "outputs": [
    {
     "name": "stdout",
     "output_type": "stream",
     "text": [
      "True\n"
     ]
    }
   ],
   "source": [
    "# \"in\" checks if container contains value\n",
    "\n",
    "print(\"s\" in \"stark\")"
   ]
  },
  {
   "cell_type": "code",
   "execution_count": 22,
   "metadata": {},
   "outputs": [
    {
     "name": "stdout",
     "output_type": "stream",
     "text": [
      "True\n",
      "False\n"
     ]
    }
   ],
   "source": [
    "# \"is\" checks if both objects share same memory location\n",
    "\n",
    "print(\"stark\" is \"stark\") #True - Strings are immutable\n",
    "print([\"stark\"] is [\"stark\"]) #False - List are mutable"
   ]
  },
  {
   "cell_type": "code",
   "execution_count": 23,
   "metadata": {},
   "outputs": [
    {
     "name": "stdout",
     "output_type": "stream",
     "text": [
      "10\n",
      "5\n"
     ]
    }
   ],
   "source": [
    "#global variable keyword\n",
    "\n",
    "a = 10 #global variable\n",
    "\n",
    "def read():\n",
    "    print(a)\n",
    "\n",
    "def mod():\n",
    "    global a #accessing global variable\n",
    "    a=5\n",
    "\n",
    "read()\n",
    "mod()\n",
    "read()"
   ]
  },
  {
   "cell_type": "code",
   "execution_count": 25,
   "metadata": {},
   "outputs": [
    {
     "name": "stdout",
     "output_type": "stream",
     "text": [
      "10\n",
      "20\n",
      "30\n"
     ]
    }
   ],
   "source": [
    "#structuring\n",
    "\n",
    "#multiple statements per line\n",
    "\n",
    "a=10;b=20;c=30\n",
    "print(a);print(b);print(c)"
   ]
  },
  {
   "cell_type": "code",
   "execution_count": 26,
   "metadata": {},
   "outputs": [
    {
     "name": "stdout",
     "output_type": "stream",
     "text": [
      "True\n",
      "False\n"
     ]
    }
   ],
   "source": [
    "#working of iskeyword()\n",
    "\n",
    "import keyword\n",
    "\n",
    "s=\"for\"\n",
    "s1=\"stark\"\n",
    "\n",
    "print(keyword.iskeyword(s))\n",
    "print(keyword.iskeyword(s1))"
   ]
  },
  {
   "cell_type": "code",
   "execution_count": 27,
   "metadata": {},
   "outputs": [
    {
     "name": "stdout",
     "output_type": "stream",
     "text": [
      "['False', 'None', 'True', 'and', 'as', 'assert', 'break', 'class', 'continue', 'def', 'del', 'elif', 'else', 'except', 'finally', 'for', 'from', 'global', 'if', 'import', 'in', 'is', 'lambda', 'nonlocal', 'not', 'or', 'pass', 'raise', 'return', 'try', 'while', 'with', 'yield']\n"
     ]
    }
   ],
   "source": [
    "#all keywords list\n",
    "print(keyword.kwlist)"
   ]
  },
  {
   "cell_type": "code",
   "execution_count": 29,
   "metadata": {},
   "outputs": [
    {
     "name": "stdout",
     "output_type": "stream",
     "text": [
      "33\n"
     ]
    }
   ],
   "source": [
    "print(len(keyword.kwlist)) #count/length of list"
   ]
  },
  {
   "cell_type": "code",
   "execution_count": 30,
   "metadata": {},
   "outputs": [
    {
     "name": "stdout",
     "output_type": "stream",
     "text": [
      "1\n"
     ]
    }
   ],
   "source": [
    "#condtional operator-1 line\n",
    "\n",
    "a = 1 if 20>10 else 0\n",
    "print(a)"
   ]
  },
  {
   "cell_type": "code",
   "execution_count": 31,
   "metadata": {},
   "outputs": [
    {
     "name": "stdout",
     "output_type": "stream",
     "text": [
      "Tony Stark\n"
     ]
    }
   ],
   "source": [
    "#print without newline\n",
    "print(\"Tony\",end=\" \")\n",
    "print(\"Stark\")"
   ]
  },
  {
   "cell_type": "code",
   "execution_count": null,
   "metadata": {
    "collapsed": true
   },
   "outputs": [],
   "source": []
  }
 ],
 "metadata": {
  "kernelspec": {
   "display_name": "Python 3",
   "language": "python",
   "name": "python3"
  },
  "language_info": {
   "codemirror_mode": {
    "name": "ipython",
    "version": 3
   },
   "file_extension": ".py",
   "mimetype": "text/x-python",
   "name": "python",
   "nbconvert_exporter": "python",
   "pygments_lexer": "ipython3",
   "version": "3.6.1"
  }
 },
 "nbformat": 4,
 "nbformat_minor": 2
}
