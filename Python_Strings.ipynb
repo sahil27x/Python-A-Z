{
 "cells": [
  {
   "cell_type": "code",
   "execution_count": 1,
   "metadata": {
    "collapsed": true
   },
   "outputs": [],
   "source": [
    "#strings are array of bytes representing Unicode characters. Python does not have character datatype, a single charachters simply  a string of length !.\n",
    "#square brackets can be used to access alements of string."
   ]
  },
  {
   "cell_type": "code",
   "execution_count": 2,
   "metadata": {},
   "outputs": [
    {
     "name": "stdout",
     "output_type": "stream",
     "text": [
      "<class 'str'>\n",
      "Welcome to python world\n"
     ]
    }
   ],
   "source": [
    "string1 = \"Welcome to python world\"\n",
    "print(type(string1))\n",
    "print(string1)"
   ]
  },
  {
   "cell_type": "code",
   "execution_count": 4,
   "metadata": {},
   "outputs": [
    {
     "name": "stdout",
     "output_type": "stream",
     "text": [
      "A\n",
      "S\n",
      "ENG\n",
      "ENGE\n"
     ]
    }
   ],
   "source": [
    "#indexing\n",
    "s=\"AVENGERS\"\n",
    "print(s[0]) #first charachter\n",
    "print(s[-1]) #last\n",
    "print(s[2:5]) #slicing\n",
    "print(s[2:-2]) #slicing from 2nd and 2nd last character"
   ]
  },
  {
   "cell_type": "code",
   "execution_count": 5,
   "metadata": {
    "collapsed": true
   },
   "outputs": [],
   "source": [
    "#Strings are IMMUTABLE. So no updatation or deletion of characters is possible."
   ]
  },
  {
   "cell_type": "code",
   "execution_count": 6,
   "metadata": {},
   "outputs": [
    {
     "name": "stdout",
     "output_type": "stream",
     "text": [
      "Avengers Assemble\n"
     ]
    }
   ],
   "source": [
    "s=\"Avengers Assemble\"\n",
    "print(s)"
   ]
  },
  {
   "cell_type": "code",
   "execution_count": 7,
   "metadata": {},
   "outputs": [
    {
     "ename": "TypeError",
     "evalue": "'str' object does not support item assignment",
     "output_type": "error",
     "traceback": [
      "\u001b[0;31m---------------------------------------------------------------------------\u001b[0m",
      "\u001b[0;31mTypeError\u001b[0m                                 Traceback (most recent call last)",
      "\u001b[0;32m<ipython-input-7-2d8de852ece9>\u001b[0m in \u001b[0;36m<module>\u001b[0;34m()\u001b[0m\n\u001b[1;32m      1\u001b[0m \u001b[0;31m#updation\u001b[0m\u001b[0;34m\u001b[0m\u001b[0;34m\u001b[0m\u001b[0m\n\u001b[0;32m----> 2\u001b[0;31m \u001b[0ms\u001b[0m\u001b[0;34m[\u001b[0m\u001b[0;36m0\u001b[0m\u001b[0;34m]\u001b[0m\u001b[0;34m=\u001b[0m\u001b[0;34m\"B\"\u001b[0m \u001b[0;31m# Error will occur.\u001b[0m\u001b[0;34m\u001b[0m\u001b[0m\n\u001b[0m\u001b[1;32m      3\u001b[0m \u001b[0mprint\u001b[0m\u001b[0;34m(\u001b[0m\u001b[0ms\u001b[0m\u001b[0;34m)\u001b[0m\u001b[0;34m\u001b[0m\u001b[0m\n",
      "\u001b[0;31mTypeError\u001b[0m: 'str' object does not support item assignment"
     ]
    }
   ],
   "source": [
    "#updation\n",
    "s[0]=\"B\" # Error will occur. \n",
    "print(s)"
   ]
  },
  {
   "cell_type": "code",
   "execution_count": 11,
   "metadata": {},
   "outputs": [
    {
     "name": "stdout",
     "output_type": "stream",
     "text": [
      "Avengers\n"
     ]
    }
   ],
   "source": [
    "# updatation of entire string is possible\n",
    "s=\"Avengers\"\n",
    "print(s)"
   ]
  },
  {
   "cell_type": "code",
   "execution_count": 12,
   "metadata": {},
   "outputs": [
    {
     "name": "stdout",
     "output_type": "stream",
     "text": [
      "String deleted\n"
     ]
    }
   ],
   "source": [
    "#deletion of entire string is possible using del keyword\n",
    "\n",
    "del s\n",
    "print(\"String deleted\")"
   ]
  },
  {
   "cell_type": "code",
   "execution_count": 13,
   "metadata": {},
   "outputs": [
    {
     "name": "stdout",
     "output_type": "stream",
     "text": [
      "Avengers Infinity War\n"
     ]
    }
   ],
   "source": [
    "#formatting\n",
    "s=\"{} {} {}\".format('Avengers','Infinity','War')\n",
    "print(s)"
   ]
  },
  {
   "cell_type": "code",
   "execution_count": 14,
   "metadata": {},
   "outputs": [
    {
     "name": "stdout",
     "output_type": "stream",
     "text": [
      "Binary rep. of 16:  10000\n"
     ]
    }
   ],
   "source": [
    "s=\"{0:b}\".format(16)\n",
    "print(\"Binary rep. of 16: \",s)"
   ]
  },
  {
   "cell_type": "code",
   "execution_count": 15,
   "metadata": {},
   "outputs": [
    {
     "name": "stdout",
     "output_type": "stream",
     "text": [
      "1.854532e+02\n"
     ]
    }
   ],
   "source": [
    "#formatting floats\n",
    "s=\"{0:e}\".format(185.4532)\n",
    "print(s)"
   ]
  },
  {
   "cell_type": "code",
   "execution_count": 16,
   "metadata": {},
   "outputs": [
    {
     "name": "stdout",
     "output_type": "stream",
     "text": [
      "0.17\n"
     ]
    }
   ],
   "source": [
    "#rounf off integers\n",
    "s=\"{0:.2f}\".format(1/6)\n",
    "print(s)"
   ]
  },
  {
   "cell_type": "code",
   "execution_count": 17,
   "metadata": {},
   "outputs": [
    {
     "name": "stdout",
     "output_type": "stream",
     "text": [
      "Avengersassemble\n"
     ]
    }
   ],
   "source": [
    "s=\"Avengers\"\n",
    "s=s+\"assemble\"\n",
    "print(s)"
   ]
  },
  {
   "cell_type": "code",
   "execution_count": 18,
   "metadata": {},
   "outputs": [
    {
     "name": "stdout",
     "output_type": "stream",
     "text": [
      "4531548712\n",
      "4531548712\n"
     ]
    }
   ],
   "source": [
    "#id() function\n",
    "s1=\"hello\"\n",
    "s2=\"hello\"\n",
    "print(id(s1))\n",
    "print(id(s2))\n",
    "#same id as both point to same object"
   ]
  },
  {
   "cell_type": "code",
   "execution_count": 20,
   "metadata": {},
   "outputs": [
    {
     "name": "stdout",
     "output_type": "stream",
     "text": [
      "Hi, \"Welcome\"\n"
     ]
    }
   ],
   "source": [
    "#printing with double qoutes\n",
    "print(\"Hi, \\\"Welcome\\\"\")"
   ]
  },
  {
   "cell_type": "code",
   "execution_count": 24,
   "metadata": {},
   "outputs": [
    {
     "name": "stdout",
     "output_type": "stream",
     "text": [
      "egr sebe\n"
     ]
    }
   ],
   "source": [
    "#extented slicing\n",
    "s=\"Avengers Assemble\"\n",
    "print(s[2:20:2]) #start:end:step"
   ]
  },
  {
   "cell_type": "code",
   "execution_count": 26,
   "metadata": {},
   "outputs": [
    {
     "name": "stdout",
     "output_type": "stream",
     "text": [
      "em\n"
     ]
    }
   ],
   "source": [
    "#extented slicing\n",
    "s=\"Avengers Assemble\"\n",
    "print(s[-5:-3]) #start:end:step"
   ]
  },
  {
   "cell_type": "code",
   "execution_count": 28,
   "metadata": {},
   "outputs": [
    {
     "name": "stdout",
     "output_type": "stream",
     "text": [
      "elbmessA sregnevA\n"
     ]
    }
   ],
   "source": [
    "#reverse\n",
    "print(s[::-1])"
   ]
  },
  {
   "cell_type": "code",
   "execution_count": 33,
   "metadata": {},
   "outputs": [
    {
     "name": "stdout",
     "output_type": "stream",
     "text": [
      "sreg\n"
     ]
    }
   ],
   "source": [
    "s=\"Avengers\"\n",
    "print(s[-1:-5:-1])"
   ]
  },
  {
   "cell_type": "code",
   "execution_count": 34,
   "metadata": {
    "collapsed": true
   },
   "outputs": [],
   "source": [
    "s=\"avengers\""
   ]
  },
  {
   "cell_type": "code",
   "execution_count": 39,
   "metadata": {},
   "outputs": [
    {
     "name": "stdout",
     "output_type": "stream",
     "text": [
      "1\n"
     ]
    }
   ],
   "source": [
    "print(s.find(\"v\")) #to find position of FIRST OCCURRENCE of substring "
   ]
  },
  {
   "cell_type": "code",
   "execution_count": 40,
   "metadata": {},
   "outputs": [
    {
     "name": "stdout",
     "output_type": "stream",
     "text": [
      "-1\n"
     ]
    }
   ],
   "source": [
    "print(s.find(\"t\")) #returns -1 if not found"
   ]
  },
  {
   "cell_type": "code",
   "execution_count": 41,
   "metadata": {},
   "outputs": [
    {
     "name": "stdout",
     "output_type": "stream",
     "text": [
      "5\n"
     ]
    }
   ],
   "source": [
    "print(s.rfind(\"e\")) #find LAST OCCURENCE"
   ]
  },
  {
   "cell_type": "code",
   "execution_count": 42,
   "metadata": {},
   "outputs": [
    {
     "name": "stdout",
     "output_type": "stream",
     "text": [
      "True\n"
     ]
    }
   ],
   "source": [
    "print(s.startswith(\"a\")) #return True if string begins with mentioned  prefix"
   ]
  },
  {
   "cell_type": "code",
   "execution_count": 43,
   "metadata": {},
   "outputs": [
    {
     "name": "stdout",
     "output_type": "stream",
     "text": [
      "True\n"
     ]
    }
   ],
   "source": [
    "print(s.endswith('s'))"
   ]
  },
  {
   "cell_type": "code",
   "execution_count": 44,
   "metadata": {},
   "outputs": [
    {
     "name": "stdout",
     "output_type": "stream",
     "text": [
      "True\n"
     ]
    }
   ],
   "source": [
    "print(s.islower()) #returns True if string is in lowercase"
   ]
  },
  {
   "cell_type": "code",
   "execution_count": 45,
   "metadata": {},
   "outputs": [
    {
     "name": "stdout",
     "output_type": "stream",
     "text": [
      "False\n"
     ]
    }
   ],
   "source": [
    "print(s.isupper())"
   ]
  },
  {
   "cell_type": "code",
   "execution_count": 46,
   "metadata": {},
   "outputs": [
    {
     "name": "stdout",
     "output_type": "stream",
     "text": [
      "AVENGERS\n"
     ]
    }
   ],
   "source": [
    "print(s.upper()) #returns new string with UPPERCASE"
   ]
  },
  {
   "cell_type": "code",
   "execution_count": 47,
   "metadata": {},
   "outputs": [
    {
     "name": "stdout",
     "output_type": "stream",
     "text": [
      "avengers\n"
     ]
    }
   ],
   "source": [
    "print(s.lower()) #returns new string with lowercase"
   ]
  },
  {
   "cell_type": "code",
   "execution_count": 49,
   "metadata": {},
   "outputs": [
    {
     "name": "stdout",
     "output_type": "stream",
     "text": [
      "aVENGERS aSSEMBLE\n"
     ]
    }
   ],
   "source": [
    "s = \"Avengers Assemble\"\n",
    "print(s.swapcase()) #new list with cases swapped"
   ]
  },
  {
   "cell_type": "code",
   "execution_count": 50,
   "metadata": {},
   "outputs": [
    {
     "name": "stdout",
     "output_type": "stream",
     "text": [
      "Avengers Assemble\n"
     ]
    }
   ],
   "source": [
    "s = \"avengers assemble\"\n",
    "print(s.title()) #uppercase first character of every word"
   ]
  },
  {
   "cell_type": "code",
   "execution_count": 51,
   "metadata": {},
   "outputs": [
    {
     "name": "stdout",
     "output_type": "stream",
     "text": [
      "17\n"
     ]
    }
   ],
   "source": [
    "print(len(s)) #length of string"
   ]
  },
  {
   "cell_type": "code",
   "execution_count": 52,
   "metadata": {},
   "outputs": [
    {
     "name": "stdout",
     "output_type": "stream",
     "text": [
      "2\n"
     ]
    }
   ],
   "source": [
    "print(s.count(\"a\")) #returns occurrence of substring"
   ]
  },
  {
   "cell_type": "code",
   "execution_count": 54,
   "metadata": {},
   "outputs": [
    {
     "name": "stdout",
     "output_type": "stream",
     "text": [
      "------avengers assemble-------\n"
     ]
    }
   ],
   "source": [
    "print(s.center(30,'-')) #surroundding string in center"
   ]
  },
  {
   "cell_type": "code",
   "execution_count": 55,
   "metadata": {},
   "outputs": [
    {
     "name": "stdout",
     "output_type": "stream",
     "text": [
      "True\n"
     ]
    }
   ],
   "source": [
    "s=\"avengers24X7\"\n",
    "print(s.isalnum()) #returns True if charachters are combination of numbes and/or alphabets"
   ]
  },
  {
   "cell_type": "code",
   "execution_count": 56,
   "metadata": {},
   "outputs": [
    {
     "name": "stdout",
     "output_type": "stream",
     "text": [
      "True\n"
     ]
    }
   ],
   "source": [
    "s=\"avengers\"\n",
    "print(s.isalpha()) #True if string has all alphabets"
   ]
  },
  {
   "cell_type": "code",
   "execution_count": 58,
   "metadata": {},
   "outputs": [
    {
     "name": "stdout",
     "output_type": "stream",
     "text": [
      "True\n"
     ]
    }
   ],
   "source": [
    "s=\"  \"\n",
    "print(s.isspace()) #true if all characters are spaces"
   ]
  },
  {
   "cell_type": "code",
   "execution_count": 59,
   "metadata": {},
   "outputs": [
    {
     "name": "stdout",
     "output_type": "stream",
     "text": [
      "avengers-assemble-now\n"
     ]
    }
   ],
   "source": [
    "#join() function-to join sequences of strings mentioned in argument.\n",
    "\n",
    "s1=\"-\"\n",
    "s2=(\"avengers\",\"assemble\",'now')\n",
    "print(s1.join(s2))"
   ]
  },
  {
   "cell_type": "code",
   "execution_count": 63,
   "metadata": {},
   "outputs": [
    {
     "name": "stdout",
     "output_type": "stream",
     "text": [
      "avengers\n"
     ]
    }
   ],
   "source": [
    "s=\"--avengers--\"\n",
    "print(s.strip(\"-\"))\n",
    "#to delete all leading and trailing characters mentioned in argument"
   ]
  },
  {
   "cell_type": "code",
   "execution_count": 65,
   "metadata": {},
   "outputs": [
    {
     "name": "stdout",
     "output_type": "stream",
     "text": [
      "avengers--\n"
     ]
    }
   ],
   "source": [
    "print(s.lstrip(\"-\"))"
   ]
  },
  {
   "cell_type": "code",
   "execution_count": 66,
   "metadata": {},
   "outputs": [
    {
     "name": "stdout",
     "output_type": "stream",
     "text": [
      "--avengers\n"
     ]
    }
   ],
   "source": [
    "print(s.rstrip(\"-\"))"
   ]
  },
  {
   "cell_type": "code",
   "execution_count": 68,
   "metadata": {},
   "outputs": [
    {
     "name": "stdout",
     "output_type": "stream",
     "text": [
      "a\n",
      "v\n"
     ]
    }
   ],
   "source": [
    "s='avengers'\n",
    "print(min(s)) #minimum value alphabet from string\n",
    "print(max(s)) #maximum value alphabet from string"
   ]
  },
  {
   "cell_type": "code",
   "execution_count": 70,
   "metadata": {},
   "outputs": [
    {
     "name": "stdout",
     "output_type": "stream",
     "text": [
      "bvangars\n"
     ]
    }
   ],
   "source": [
    "s='avengers'\n",
    "s1='ae'\n",
    "s2='ba'\n",
    "mapped=s.maketrans(s1,s2) #map the contents of s1 with s2 with respective indices\n",
    "print(s.translate(mapped)) #transalte the string"
   ]
  },
  {
   "cell_type": "code",
   "execution_count": 73,
   "metadata": {},
   "outputs": [
    {
     "name": "stdout",
     "output_type": "stream",
     "text": [
      "avengers\n"
     ]
    }
   ],
   "source": [
    "print(s) #why?? coz strings are immutable!"
   ]
  },
  {
   "cell_type": "code",
   "execution_count": 75,
   "metadata": {},
   "outputs": [
    {
     "name": "stdout",
     "output_type": "stream",
     "text": [
      "winiswin for win\n"
     ]
    }
   ],
   "source": [
    "s=\"gameisgame for game\"\n",
    "s1=\"game\"\n",
    "s2=\"win\"\n",
    "print(s.replace(s1,s2)) #replace substring with new substring"
   ]
  },
  {
   "cell_type": "code",
   "execution_count": null,
   "metadata": {
    "collapsed": true
   },
   "outputs": [],
   "source": []
  }
 ],
 "metadata": {
  "kernelspec": {
   "display_name": "Python 3",
   "language": "python",
   "name": "python3"
  },
  "language_info": {
   "codemirror_mode": {
    "name": "ipython",
    "version": 3
   },
   "file_extension": ".py",
   "mimetype": "text/x-python",
   "name": "python",
   "nbconvert_exporter": "python",
   "pygments_lexer": "ipython3",
   "version": "3.6.1"
  }
 },
 "nbformat": 4,
 "nbformat_minor": 2
}
