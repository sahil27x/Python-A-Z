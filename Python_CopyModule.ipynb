{
 "cells": [
  {
   "cell_type": "code",
   "execution_count": 1,
   "metadata": {
    "collapsed": true
   },
   "outputs": [],
   "source": [
    "# 1. In python, Assignment objects DO NOT COPY OBJECTS, they create BINDING\n",
    "# BETWEEN A TARGET AND AN OBJECT.\n",
    "\n",
    "# 2. It only creates a new variable that shares the refernce of the original object.\n",
    "\n",
    "# 3. Sometimes a user wants copies that user can modify without automatically\n",
    "# modifying the original at the same time. So we create copies of objects."
   ]
  },
  {
   "cell_type": "code",
   "execution_count": 30,
   "metadata": {
    "collapsed": true
   },
   "outputs": [],
   "source": [
    "#A copy is sometimes needed so one can change one copy without changing \n",
    "# the other. Two ways : \n",
    "\n",
    "#1. Deep Copy\n",
    "#2. Shallow Copy"
   ]
  },
  {
   "cell_type": "code",
   "execution_count": 31,
   "metadata": {},
   "outputs": [],
   "source": [
    "import copy\n",
    "\n",
    "l1 = [1,2,3,4,5]\n",
    "\n",
    "#using copy for shallow copy\n",
    "l2 = copy.copy(l1)\n",
    "\n",
    "#using deepcopy for deepcopy\n",
    "l3 = copy.deepcopy(l1)"
   ]
  },
  {
   "cell_type": "code",
   "execution_count": 32,
   "metadata": {
    "collapsed": true
   },
   "outputs": [],
   "source": [
    "# DEEPCOPY - \n",
    "\n",
    "#1. Deepcopy is a process in which the copying process occurs recursively.\n",
    "# 2. Means first constructing a new collection object and then recursively populating it with copies \n",
    "# of the child object found in original.\n",
    "#3. Here, a copy of object is copied in other object.\n",
    "#4. ANY CHANGE MADE TO THE COPY OF THE OBJECT DO NOT REFLECT IN THE \n",
    "# ORIGINAL OBJECT."
   ]
  },
  {
   "cell_type": "code",
   "execution_count": 33,
   "metadata": {},
   "outputs": [
    {
     "name": "stdout",
     "output_type": "stream",
     "text": [
      "original list l1 elements:\n",
      "1\n",
      "2\n",
      "3\n",
      "4\n",
      "5\n",
      " original deep copy list l3\n",
      "1\n",
      "2\n",
      "3\n",
      "4\n",
      "5\n"
     ]
    }
   ],
   "source": [
    "print(\"original list l1 elements:\")\n",
    "for i in l1:\n",
    "    print(i)\n",
    "    \n",
    "print(\" original deep copy list l3\")\n",
    "for i in l3:\n",
    "    print(i)"
   ]
  },
  {
   "cell_type": "code",
   "execution_count": 34,
   "metadata": {
    "collapsed": true
   },
   "outputs": [],
   "source": [
    "# modifying l3 list\n",
    "l3[0] = 7 "
   ]
  },
  {
   "cell_type": "code",
   "execution_count": 35,
   "metadata": {},
   "outputs": [
    {
     "name": "stdout",
     "output_type": "stream",
     "text": [
      "deep copy list l3 MODIFIED\n",
      "7\n",
      "2\n",
      "3\n",
      "4\n",
      "5\n",
      "original list l1 elements NOT MODIFIED/CHANGE\n",
      "1\n",
      "2\n",
      "3\n",
      "4\n",
      "5\n"
     ]
    }
   ],
   "source": [
    "print(\"deep copy list l3 MODIFIED\")\n",
    "for i in l3:\n",
    "    print(i)\n",
    "    \n",
    "print(\"original list l1 elements NOT MODIFIED/CHANGE\")\n",
    "for i in l1:\n",
    "    print(i)"
   ]
  },
  {
   "cell_type": "code",
   "execution_count": 36,
   "metadata": {
    "collapsed": true
   },
   "outputs": [],
   "source": [
    "# thus deepcopy means a sepearte independent copy ------"
   ]
  },
  {
   "cell_type": "code",
   "execution_count": 51,
   "metadata": {
    "collapsed": true
   },
   "outputs": [],
   "source": [
    "list1 = [1,2,[3,4],5] # should be MUTABLE OBJECT \n",
    "list2 = copy.copy(list1)"
   ]
  },
  {
   "cell_type": "code",
   "execution_count": 52,
   "metadata": {
    "collapsed": true
   },
   "outputs": [],
   "source": [
    "# SHALLOW COPY\n",
    "\n",
    "#1. Means constucting a new collection object and then populating it with\n",
    "# references to the child objects found in original. NOT RECURSIVE PROCESS.\n",
    "\n",
    "#2. A REFERENCE OF OBJECT is copied in other object.\n",
    "\n",
    "#3. Any changes made to the copy of the object DO REFLECT in the original object.\n",
    "\n",
    "#4. ONLY MUTABLE OBJECTS CHANGES WILL BE REFLECTED IN THE ORIGINAL"
   ]
  },
  {
   "cell_type": "code",
   "execution_count": 53,
   "metadata": {},
   "outputs": [
    {
     "name": "stdout",
     "output_type": "stream",
     "text": [
      "original list l1 elements:\n",
      "1\n",
      "2\n",
      "[3, 4]\n",
      "5\n",
      "original shallow copy list l2 \n",
      "1\n",
      "2\n",
      "[3, 4]\n",
      "5\n"
     ]
    }
   ],
   "source": [
    "print(\"original list l1 elements:\")\n",
    "for i in list1:\n",
    "    print(i)\n",
    "    \n",
    "print(\"original shallow copy list l2 \")\n",
    "for i in list2:\n",
    "    print(i)"
   ]
  },
  {
   "cell_type": "code",
   "execution_count": 54,
   "metadata": {
    "collapsed": true
   },
   "outputs": [],
   "source": [
    "# modifying l2 list\n",
    "list2[2][0] = 7 "
   ]
  },
  {
   "cell_type": "code",
   "execution_count": 55,
   "metadata": {},
   "outputs": [
    {
     "name": "stdout",
     "output_type": "stream",
     "text": [
      "shallow copy list l2 MODIFIED\n",
      "1\n",
      "2\n",
      "[7, 4]\n",
      "5\n",
      "original list l1 elements MODIFIED\n",
      "1\n",
      "2\n",
      "[7, 4]\n",
      "5\n"
     ]
    }
   ],
   "source": [
    "print(\"shallow copy list l2 MODIFIED\")\n",
    "for i in list2:\n",
    "    print(i)\n",
    "    \n",
    "print(\"original list l1 elements MODIFIED\")\n",
    "for i in list1:\n",
    "    print(i)"
   ]
  },
  {
   "cell_type": "code",
   "execution_count": null,
   "metadata": {
    "collapsed": true
   },
   "outputs": [],
   "source": [
    "# THATS ALL! Python Series Ends here!"
   ]
  },
  {
   "cell_type": "code",
   "execution_count": null,
   "metadata": {
    "collapsed": true
   },
   "outputs": [],
   "source": []
  }
 ],
 "metadata": {
  "kernelspec": {
   "display_name": "Python 3",
   "language": "python",
   "name": "python3"
  },
  "language_info": {
   "codemirror_mode": {
    "name": "ipython",
    "version": 3
   },
   "file_extension": ".py",
   "mimetype": "text/x-python",
   "name": "python",
   "nbconvert_exporter": "python",
   "pygments_lexer": "ipython3",
   "version": "3.6.1"
  }
 },
 "nbformat": 4,
 "nbformat_minor": 2
}
